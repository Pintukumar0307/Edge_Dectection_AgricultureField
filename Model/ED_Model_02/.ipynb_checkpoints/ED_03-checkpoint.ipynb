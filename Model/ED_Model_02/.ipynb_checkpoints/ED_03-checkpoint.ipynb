{
 "cells": [
  {
   "cell_type": "code",
   "execution_count": 1,
   "id": "5a18b400",
   "metadata": {},
   "outputs": [],
   "source": [
    "import numpy as np \n",
    "import os \n",
    "import cv2 \n",
    "import matplotlib.pyplot as plt "
   ]
  },
  {
   "cell_type": "code",
   "execution_count": 2,
   "id": "d2802118",
   "metadata": {},
   "outputs": [],
   "source": [
    "\n",
    "def Canny_detector(img, weak_th=None, strong_th=None):\n",
    "    \"\"\"\n",
    "    Applies Canny edge detection to the input image.\n",
    "\n",
    "    Args:\n",
    "    - img: Input image.\n",
    "    - weak_th: Weak threshold for double thresholding step.\n",
    "    - strong_th: Strong threshold for double thresholding step.\n",
    "\n",
    "    Returns:\n",
    "    - mag: Magnitude of gradients of edges.\n",
    "    \"\"\"\n",
    "    # Conversion of image to grayscale\n",
    "    if len(img.shape) == 3:  # Ensure input image is grayscale\n",
    "        img = cv2.cvtColor(img, cv2.COLOR_BGR2GRAY)\n",
    "\n",
    "    # Noise reduction step\n",
    "    img = cv2.GaussianBlur(img, (5, 5), 1.4)\n",
    "\n",
    "    # Calculating the gradients\n",
    "    gx = cv2.Sobel(np.float32(img), cv2.CV_64F, 1, 0, 3)\n",
    "    gy = cv2.Sobel(np.float32(img), cv2.CV_64F, 0, 1, 3)\n",
    "\n",
    "    # Conversion of Cartesian coordinates to polar\n",
    "    mag, ang = cv2.cartToPolar(gx, gy, angleInDegrees=True)\n",
    "\n",
    "    # Setting default thresholds if not provided\n",
    "    mag_max = np.max(mag)\n",
    "    if weak_th is None:\n",
    "        weak_th = mag_max * 0.1\n",
    "    if strong_th is None:\n",
    "        strong_th = mag_max * 0.5\n",
    "\n",
    "    # Double thresholding step\n",
    "    weak_ids = mag < weak_th\n",
    "    strong_ids = mag > strong_th\n",
    "    ids = np.zeros_like(img)\n",
    "    ids[strong_ids] = 2  # Strong edges\n",
    "    ids[np.logical_and(mag <= strong_th, mag >= weak_th)] = 1  # Weak edges\n",
    "\n",
    "    # Non-maximum suppression step\n",
    "    for i in range(1, img.shape[0] - 1):\n",
    "        for j in range(1, img.shape[1] - 1):\n",
    "            if ids[i, j] == 1:  # Weak edge\n",
    "                if np.any(ids[i - 1:i + 2, j - 1:j + 2] == 2):\n",
    "                    ids[i, j] = 2\n",
    "\n",
    "    return ids\n"
   ]
  },
  {
   "cell_type": "code",
   "execution_count": null,
   "id": "5c00a207",
   "metadata": {},
   "outputs": [],
   "source": [
    "frame = cv2.imread('02_02.JPG') \n",
    "\n",
    "# calling the designed function for \n",
    "# finding edges \n",
    "canny_img = Canny_detector(frame) \n"
   ]
  },
  {
   "cell_type": "code",
   "execution_count": null,
   "id": "12d0bdde",
   "metadata": {},
   "outputs": [],
   "source": [
    "# Displaying the input and output image \n",
    "plt.figure() \n",
    "f, plots = plt.subplots(2, 1) \n",
    "plots[0].imshow(frame) \n",
    "plots[1].imshow(canny_img) \n"
   ]
  },
  {
   "cell_type": "code",
   "execution_count": null,
   "id": "d7770517",
   "metadata": {},
   "outputs": [],
   "source": []
  }
 ],
 "metadata": {
  "kernelspec": {
   "display_name": "Python 3 (ipykernel)",
   "language": "python",
   "name": "python3"
  },
  "language_info": {
   "codemirror_mode": {
    "name": "ipython",
    "version": 3
   },
   "file_extension": ".py",
   "mimetype": "text/x-python",
   "name": "python",
   "nbconvert_exporter": "python",
   "pygments_lexer": "ipython3",
   "version": "3.10.7"
  }
 },
 "nbformat": 4,
 "nbformat_minor": 5
}
