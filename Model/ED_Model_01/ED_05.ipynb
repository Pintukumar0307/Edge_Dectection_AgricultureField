{
 "cells": [
  {
   "cell_type": "code",
   "execution_count": 5,
   "id": "91748c19",
   "metadata": {},
   "outputs": [],
   "source": [
    "import cv2 \n",
    "\n",
    "img = cv2.imread(\"01_01.jpg\") # Read image \n",
    "\n",
    "# Setting All parameters \n",
    "t_lower = 100 # Lower Threshold \n",
    "t_upper = 200 # Upper threshold \n",
    "aperture_size = 5 # Aperture size \n",
    "\n",
    "# Applying the Canny Edge filter \n",
    "# with Custom Aperture Size \n",
    "edge = cv2.Canny(img, t_lower, t_upper, \n",
    "\t\t\t\tapertureSize=aperture_size) \n",
    "cv2.imshow('original', img) \n",
    "cv2.imshow('edge', edge) \n",
    "cv2.waitKey(0) \n",
    "cv2.destroyAllWindows() \n"
   ]
  },
  {
   "cell_type": "code",
   "execution_count": null,
   "id": "340f3717",
   "metadata": {},
   "outputs": [],
   "source": []
  }
 ],
 "metadata": {
  "kernelspec": {
   "display_name": "Python 3 (ipykernel)",
   "language": "python",
   "name": "python3"
  },
  "language_info": {
   "codemirror_mode": {
    "name": "ipython",
    "version": 3
   },
   "file_extension": ".py",
   "mimetype": "text/x-python",
   "name": "python",
   "nbconvert_exporter": "python",
   "pygments_lexer": "ipython3",
   "version": "3.10.7"
  }
 },
 "nbformat": 4,
 "nbformat_minor": 5
}
