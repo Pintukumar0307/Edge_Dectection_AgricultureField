{
 "cells": [
  {
   "cell_type": "code",
   "execution_count": 1,
   "id": "678b82df",
   "metadata": {},
   "outputs": [],
   "source": [
    "import cv2 \n",
    "\n",
    "def canny_edge_detection(frame): \n",
    "\t# Convert the frame to grayscale for edge detection \n",
    "\tgray = cv2.cvtColor(frame, cv2.COLOR_BGR2GRAY) \n",
    "\n",
    "\t# Apply Gaussian blur to reduce noise and smoothen edges\n",
    "\tblurred = cv2.GaussianBlur(src=gray, ksize=(3, 5), sigmaX=0.5) \n",
    "\t\n",
    "\t# Perform Canny edge detection\n",
    "\tedges = cv2.Canny(blurred, 70, 135) \n",
    "\t\n",
    "\treturn blurred, edges\n"
   ]
  },
  {
   "cell_type": "code",
   "execution_count": 2,
   "id": "793eb353",
   "metadata": {},
   "outputs": [],
   "source": [
    "def main(): \n",
    "\t# Open the default webcam \n",
    "\tcap = cv2.VideoCapture(0) \n",
    "\n",
    "\twhile True: \n",
    "\t\t# Read a frame from the webcam \n",
    "\t\tret, frame = cap.read() \n",
    "\t\tif not ret: \n",
    "\t\t\tprint('Image not captured') \n",
    "\t\t\tbreak\n",
    "\t\t\n",
    "\t\t# Perform Canny edge detection on the frame \n",
    "\t\tblurred, edges = canny_edge_detection(frame) \n",
    "\t\t\n",
    "\t\t# Display the original frame and the edge-detected frame \n",
    "\t\t#cv2.imshow(\"Original\", frame) \n",
    "\t\tcv2.imshow(\"Blurred\", blurred) \n",
    "\t\tcv2.imshow(\"Edges\", edges) \n",
    "\t\t\n",
    "\t\t# Exit the loop when 'q' key is pressed \n",
    "\t\tif cv2.waitKey(1) & 0xFF == ord('q'): \n",
    "\t\t\tbreak\n",
    "\t\n",
    "\t# Release the webcam and close the windows\n",
    "\tcap.release() \n",
    "\tcv2.destroyAllWindows()\n"
   ]
  },
  {
   "cell_type": "code",
   "execution_count": 3,
   "id": "bb14eac1",
   "metadata": {},
   "outputs": [
    {
     "ename": "KeyboardInterrupt",
     "evalue": "",
     "output_type": "error",
     "traceback": [
      "\u001b[1;31m---------------------------------------------------------------------------\u001b[0m",
      "\u001b[1;31mKeyboardInterrupt\u001b[0m                         Traceback (most recent call last)",
      "Cell \u001b[1;32mIn[3], line 2\u001b[0m\n\u001b[0;32m      1\u001b[0m \u001b[38;5;28;01mif\u001b[39;00m \u001b[38;5;18m__name__\u001b[39m \u001b[38;5;241m==\u001b[39m \u001b[38;5;124m\"\u001b[39m\u001b[38;5;124m__main__\u001b[39m\u001b[38;5;124m\"\u001b[39m: \n\u001b[1;32m----> 2\u001b[0m \t\u001b[43mmain\u001b[49m\u001b[43m(\u001b[49m\u001b[43m)\u001b[49m\n",
      "Cell \u001b[1;32mIn[2], line 21\u001b[0m, in \u001b[0;36mmain\u001b[1;34m()\u001b[0m\n\u001b[0;32m     18\u001b[0m \tcv2\u001b[38;5;241m.\u001b[39mimshow(\u001b[38;5;124m\"\u001b[39m\u001b[38;5;124mEdges\u001b[39m\u001b[38;5;124m\"\u001b[39m, edges) \n\u001b[0;32m     20\u001b[0m \t\u001b[38;5;66;03m# Exit the loop when 'q' key is pressed \u001b[39;00m\n\u001b[1;32m---> 21\u001b[0m \t\u001b[38;5;28;01mif\u001b[39;00m \u001b[43mcv2\u001b[49m\u001b[38;5;241;43m.\u001b[39;49m\u001b[43mwaitKey\u001b[49m\u001b[43m(\u001b[49m\u001b[38;5;241;43m1\u001b[39;49m\u001b[43m)\u001b[49m \u001b[38;5;241m&\u001b[39m \u001b[38;5;241m0xFF\u001b[39m \u001b[38;5;241m==\u001b[39m \u001b[38;5;28mord\u001b[39m(\u001b[38;5;124m'\u001b[39m\u001b[38;5;124mq\u001b[39m\u001b[38;5;124m'\u001b[39m): \n\u001b[0;32m     22\u001b[0m \t\t\u001b[38;5;28;01mbreak\u001b[39;00m\n\u001b[0;32m     24\u001b[0m \u001b[38;5;66;03m# Release the webcam and close the windows\u001b[39;00m\n",
      "\u001b[1;31mKeyboardInterrupt\u001b[0m: "
     ]
    }
   ],
   "source": [
    "if __name__ == \"__main__\": \n",
    "\tmain()"
   ]
  },
  {
   "cell_type": "code",
   "execution_count": null,
   "id": "e13285f2",
   "metadata": {},
   "outputs": [],
   "source": []
  }
 ],
 "metadata": {
  "kernelspec": {
   "display_name": "Python 3 (ipykernel)",
   "language": "python",
   "name": "python3"
  },
  "language_info": {
   "codemirror_mode": {
    "name": "ipython",
    "version": 3
   },
   "file_extension": ".py",
   "mimetype": "text/x-python",
   "name": "python",
   "nbconvert_exporter": "python",
   "pygments_lexer": "ipython3",
   "version": "3.10.7"
  }
 },
 "nbformat": 4,
 "nbformat_minor": 5
}
