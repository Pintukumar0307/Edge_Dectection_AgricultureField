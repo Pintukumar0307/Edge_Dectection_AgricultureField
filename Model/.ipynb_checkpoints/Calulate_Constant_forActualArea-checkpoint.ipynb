{
 "cells": [
  {
   "cell_type": "code",
   "execution_count": 1,
   "id": "f9ebfea1",
   "metadata": {},
   "outputs": [],
   "source": [
    "import numpy as np\n",
    "import os\n",
    "import cv2\n",
    "import matplotlib.pyplot as plt"
   ]
  },
  {
   "cell_type": "code",
   "execution_count": 2,
   "id": "f032e132",
   "metadata": {},
   "outputs": [],
   "source": [
    "def Canny_detector(img, weak_th=None, strong_th=None):\n",
    "    \"\"\"\n",
    "    Applies Canny edge detection to the input image.\n",
    "\n",
    "    Args:\n",
    "    - img: Input image.\n",
    "    - weak_th: Weak threshold for double thresholding step.\n",
    "    - strong_th: Strong threshold for double thresholding step.\n",
    "\n",
    "    Returns:\n",
    "    - mag: Magnitude of gradients of edges.\n",
    "    \"\"\"\n",
    "    # Conversion of image to grayscale\n",
    "    if len(img.shape) == 3:  # Ensure input image is grayscale\n",
    "        img = cv2.cvtColor(img, cv2.COLOR_BGR2GRAY)\n",
    "\n",
    "    # Noise reduction step\n",
    "    img = cv2.GaussianBlur(img, (5, 5), 1.4)\n",
    "\n",
    "    # Calculating the gradients\n",
    "    gx = cv2.Sobel(np.float32(img), cv2.CV_64F, 1, 0, 3)\n",
    "    gy = cv2.Sobel(np.float32(img), cv2.CV_64F, 0, 1, 3)\n",
    "\n",
    "    # Conversion of Cartesian coordinates to polar\n",
    "    mag, ang = cv2.cartToPolar(gx, gy, angleInDegrees=True)\n",
    "\n",
    "    # Setting default thresholds if not provided\n",
    "    mag_max = np.max(mag)\n",
    "    if weak_th is None:\n",
    "        weak_th = mag_max * 0.05\n",
    "    if strong_th is None:\n",
    "        strong_th = mag_max * 0.5\n",
    "\n",
    "    # Double thresholding step\n",
    "    weak_ids = mag < weak_th\n",
    "    strong_ids = mag > strong_th\n",
    "    ids = np.zeros_like(img)\n",
    "    ids[strong_ids] = 255  # Strong edges\n",
    "    ids[np.logical_and(mag <= strong_th, mag >= weak_th)] = 50  # Weak edges\n",
    "\n",
    "    # Non-maximum suppression step\n",
    "    for i in range(1, img.shape[0] - 1):\n",
    "        for j in range(1, img.shape[1] - 1):\n",
    "            if ids[i, j] == 50:  # Weak edge\n",
    "                if np.any(ids[i - 1:i + 2, j - 1:j + 2] == 255):\n",
    "                    ids[i, j] = 255\n",
    "\n",
    "    return ids\n"
   ]
  },
  {
   "cell_type": "code",
   "execution_count": 3,
   "id": "94657f1c",
   "metadata": {},
   "outputs": [],
   "source": [
    "def find_non_detected_edge_area(edge_img):\n",
    "    \"\"\"\n",
    "    Finds the area of non-detected edges (background) in the given edge image.\n",
    "\n",
    "    Args:\n",
    "    - edge_img: Image containing detected edges.\n",
    "\n",
    "    Returns:\n",
    "    - area: Area of non-detected edges (background).\n",
    "    \"\"\"\n",
    "    # Total area of the image\n",
    "    total_area = edge_img.shape[0] * edge_img.shape[1]\n",
    "\n",
    "    # Area of detected edges\n",
    "    edge_area = np.count_nonzero(edge_img)\n",
    "\n",
    "    # Area of non-detected edges (background)\n",
    "    non_detected_edge_area = total_area - edge_area\n",
    "\n",
    "    return non_detected_edge_area\n"
   ]
  },
  {
   "cell_type": "code",
   "execution_count": 9,
   "id": "69641bb8",
   "metadata": {},
   "outputs": [],
   "source": [
    "#  Example usage:\n",
    "# Assuming you have an image `input_img` and have performed Canny edge detection\n",
    "# using the `Canny_detector` function, resulting in an edge image `edge_image`\n",
    "frame = cv2.imread('Image_Whole_Area/02_02.JPG')\n",
    "edge_image = Canny_detector(frame)\n"
   ]
  },
  {
   "cell_type": "code",
   "execution_count": 10,
   "id": "e1f4e714",
   "metadata": {},
   "outputs": [
    {
     "name": "stdout",
     "output_type": "stream",
     "text": [
      "Area of non-detected edges (background): 7605318\n"
     ]
    }
   ],
   "source": [
    "\n",
    "# Example usage:\n",
    "# Assuming you have an image `input_img` and have performed Canny edge detection\n",
    "# using the `Canny_detector` function, resulting in an edge image `edge_image`\n",
    "\n",
    "non_detected_edge_area = find_non_detected_edge_area(edge_image)\n",
    "print(\"Area of non-detected edges (background):\", non_detected_edge_area)\n"
   ]
  },
  {
   "cell_type": "code",
   "execution_count": 12,
   "id": "d230c114",
   "metadata": {},
   "outputs": [
    {
     "name": "stdout",
     "output_type": "stream",
     "text": [
      "2248.0987289388117\n"
     ]
    }
   ],
   "source": [
    "ActualArea_02_02= 3383\n",
    "ActualArea_02_04= 4495.67\n",
    "constant = non_detected_edge_area/ActualArea_02_02\n",
    "print(constant)\n"
   ]
  },
  {
   "cell_type": "code",
   "execution_count": 13,
   "id": "bee77eae",
   "metadata": {},
   "outputs": [],
   "source": [
    "# constant for ActualArea_02_02  = 2248.0987289388117\n",
    "# constant for ActualArea_02_04  = 2175.128512546517"
   ]
  },
  {
   "cell_type": "code",
   "execution_count": 13,
   "id": "228465be",
   "metadata": {},
   "outputs": [],
   "source": [
    "a=non_detected_edge_area/2175.128512546517"
   ]
  },
  {
   "cell_type": "code",
   "execution_count": 15,
   "id": "12bd5c1c",
   "metadata": {},
   "outputs": [
    {
     "data": {
      "text/plain": [
       "113.49133654917978"
      ]
     },
     "execution_count": 15,
     "metadata": {},
     "output_type": "execute_result"
    }
   ],
   "source": [
    "a-ActualArea_02_02\n"
   ]
  },
  {
   "cell_type": "code",
   "execution_count": 16,
   "id": "154dc07c",
   "metadata": {},
   "outputs": [
    {
     "data": {
      "text/plain": [
       "0.03354754258030735"
      ]
     },
     "execution_count": 16,
     "metadata": {},
     "output_type": "execute_result"
    }
   ],
   "source": [
    "c=113.49133654917978/3383\n",
    "c"
   ]
  },
  {
   "cell_type": "code",
   "execution_count": 17,
   "id": "73e723d2",
   "metadata": {},
   "outputs": [
    {
     "data": {
      "text/plain": [
       "99.96645245741969"
      ]
     },
     "execution_count": 17,
     "metadata": {},
     "output_type": "execute_result"
    }
   ],
   "source": [
    "d=100-c\n",
    "d"
   ]
  },
  {
   "cell_type": "code",
   "execution_count": null,
   "id": "e1f5315c",
   "metadata": {},
   "outputs": [],
   "source": []
  }
 ],
 "metadata": {
  "kernelspec": {
   "display_name": "Python 3 (ipykernel)",
   "language": "python",
   "name": "python3"
  },
  "language_info": {
   "codemirror_mode": {
    "name": "ipython",
    "version": 3
   },
   "file_extension": ".py",
   "mimetype": "text/x-python",
   "name": "python",
   "nbconvert_exporter": "python",
   "pygments_lexer": "ipython3",
   "version": "3.10.7"
  }
 },
 "nbformat": 4,
 "nbformat_minor": 5
}
