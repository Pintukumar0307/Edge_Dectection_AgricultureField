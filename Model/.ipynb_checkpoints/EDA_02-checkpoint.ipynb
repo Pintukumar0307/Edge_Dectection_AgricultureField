{
 "cells": [
  {
   "cell_type": "code",
   "execution_count": null,
   "id": "70935016",
   "metadata": {},
   "outputs": [],
   "source": [
    "import cv2\n",
    "import numpy as np\n",
    "\n",
    "# Load the image\n",
    "image = cv2.imread('image/01_01.jpg')\n",
    "\n",
    "# Convert the image to HSV color space\n",
    "hsv = cv2.cvtColor(image, cv2.COLOR_BGR2HSV)\n",
    "\n",
    "# Define range of green color in HSV\n",
    "lower_green = np.array([35, 50, 50])\n",
    "upper_green = np.array([85, 255, 255])\n",
    "\n",
    "# Threshold the HSV image to get only green colors\n",
    "mask = cv2.inRange(hsv, lower_green, upper_green)\n",
    "\n",
    "# Invert the mask to get non-green areas\n",
    "non_green_mask = cv2.bitwise_not(mask)\n",
    "\n",
    "# Perform Canny edge detection on non-green areas\n",
    "edges = cv2.Canny(non_green_mask, 50, 150)\n",
    "\n",
    "# Display the original image and edges\n",
    "cv2.imshow('Original Image', image)\n",
    "cv2.imshow('Non-green Edges', edges)\n",
    "cv2.waitKey(0)\n",
    "cv2.destroyAllWindows()\n"
   ]
  },
  {
   "cell_type": "code",
   "execution_count": null,
   "id": "46e3a44e",
   "metadata": {},
   "outputs": [],
   "source": []
  }
 ],
 "metadata": {
  "kernelspec": {
   "display_name": "Python 3 (ipykernel)",
   "language": "python",
   "name": "python3"
  },
  "language_info": {
   "codemirror_mode": {
    "name": "ipython",
    "version": 3
   },
   "file_extension": ".py",
   "mimetype": "text/x-python",
   "name": "python",
   "nbconvert_exporter": "python",
   "pygments_lexer": "ipython3",
   "version": "3.10.7"
  }
 },
 "nbformat": 4,
 "nbformat_minor": 5
}
